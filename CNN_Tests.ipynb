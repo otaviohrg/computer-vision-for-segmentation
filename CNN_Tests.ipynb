{
  "nbformat": 4,
  "nbformat_minor": 0,
  "metadata": {
    "colab": {
      "name": "CNN Tests.ipynb",
      "provenance": [],
      "collapsed_sections": []
    },
    "kernelspec": {
      "name": "python3",
      "display_name": "Python 3"
    }
  },
  "cells": [
    {
      "cell_type": "markdown",
      "metadata": {
        "id": "Pz-wRiOExdow"
      },
      "source": [
        "# Includes"
      ]
    },
    {
      "cell_type": "code",
      "metadata": {
        "id": "FvvCJOtqdAy5",
        "colab": {
          "base_uri": "https://localhost:8080/"
        },
        "outputId": "a9d2121b-ab31-4219-fe9b-ad394a565af5"
      },
      "source": [
        "!pip install --upgrade git+https://github.com/divamgupta/image-segmentation-keras"
      ],
      "execution_count": null,
      "outputs": [
        {
          "output_type": "stream",
          "text": [
            "Collecting git+https://github.com/divamgupta/image-segmentation-keras\n",
            "  Cloning https://github.com/divamgupta/image-segmentation-keras to /tmp/pip-req-build-4kobmh7j\n",
            "  Running command git clone -q https://github.com/divamgupta/image-segmentation-keras /tmp/pip-req-build-4kobmh7j\n",
            "Requirement already satisfied, skipping upgrade: h5py<=2.10.0 in /usr/local/lib/python3.7/dist-packages (from keras-segmentation==0.3.0) (2.10.0)\n",
            "Requirement already satisfied, skipping upgrade: Keras>=2.0.0 in /usr/local/lib/python3.7/dist-packages (from keras-segmentation==0.3.0) (2.4.3)\n",
            "Collecting imageio==2.5.0\n",
            "\u001b[?25l  Downloading https://files.pythonhosted.org/packages/af/0a/943c965d372dae0b1f1482677d29030ab834351a61a9a632fd62f27f1523/imageio-2.5.0-py3-none-any.whl (3.3MB)\n",
            "\u001b[K     |████████████████████████████████| 3.3MB 8.7MB/s \n",
            "\u001b[?25hCollecting imgaug>=0.4.0\n",
            "\u001b[?25l  Downloading https://files.pythonhosted.org/packages/66/b1/af3142c4a85cba6da9f4ebb5ff4e21e2616309552caca5e8acefe9840622/imgaug-0.4.0-py2.py3-none-any.whl (948kB)\n",
            "\u001b[K     |████████████████████████████████| 952kB 50.6MB/s \n",
            "\u001b[?25hRequirement already satisfied, skipping upgrade: opencv-python in /usr/local/lib/python3.7/dist-packages (from keras-segmentation==0.3.0) (4.1.2.30)\n",
            "Requirement already satisfied, skipping upgrade: tqdm in /usr/local/lib/python3.7/dist-packages (from keras-segmentation==0.3.0) (4.41.1)\n",
            "Requirement already satisfied, skipping upgrade: six in /usr/local/lib/python3.7/dist-packages (from h5py<=2.10.0->keras-segmentation==0.3.0) (1.15.0)\n",
            "Requirement already satisfied, skipping upgrade: numpy>=1.7 in /usr/local/lib/python3.7/dist-packages (from h5py<=2.10.0->keras-segmentation==0.3.0) (1.19.5)\n",
            "Requirement already satisfied, skipping upgrade: scipy>=0.14 in /usr/local/lib/python3.7/dist-packages (from Keras>=2.0.0->keras-segmentation==0.3.0) (1.4.1)\n",
            "Requirement already satisfied, skipping upgrade: pyyaml in /usr/local/lib/python3.7/dist-packages (from Keras>=2.0.0->keras-segmentation==0.3.0) (3.13)\n",
            "Requirement already satisfied, skipping upgrade: pillow in /usr/local/lib/python3.7/dist-packages (from imageio==2.5.0->keras-segmentation==0.3.0) (7.1.2)\n",
            "Requirement already satisfied, skipping upgrade: scikit-image>=0.14.2 in /usr/local/lib/python3.7/dist-packages (from imgaug>=0.4.0->keras-segmentation==0.3.0) (0.16.2)\n",
            "Requirement already satisfied, skipping upgrade: Shapely in /usr/local/lib/python3.7/dist-packages (from imgaug>=0.4.0->keras-segmentation==0.3.0) (1.7.1)\n",
            "Requirement already satisfied, skipping upgrade: matplotlib in /usr/local/lib/python3.7/dist-packages (from imgaug>=0.4.0->keras-segmentation==0.3.0) (3.2.2)\n",
            "Requirement already satisfied, skipping upgrade: networkx>=2.0 in /usr/local/lib/python3.7/dist-packages (from scikit-image>=0.14.2->imgaug>=0.4.0->keras-segmentation==0.3.0) (2.5)\n",
            "Requirement already satisfied, skipping upgrade: PyWavelets>=0.4.0 in /usr/local/lib/python3.7/dist-packages (from scikit-image>=0.14.2->imgaug>=0.4.0->keras-segmentation==0.3.0) (1.1.1)\n",
            "Requirement already satisfied, skipping upgrade: python-dateutil>=2.1 in /usr/local/lib/python3.7/dist-packages (from matplotlib->imgaug>=0.4.0->keras-segmentation==0.3.0) (2.8.1)\n",
            "Requirement already satisfied, skipping upgrade: pyparsing!=2.0.4,!=2.1.2,!=2.1.6,>=2.0.1 in /usr/local/lib/python3.7/dist-packages (from matplotlib->imgaug>=0.4.0->keras-segmentation==0.3.0) (2.4.7)\n",
            "Requirement already satisfied, skipping upgrade: cycler>=0.10 in /usr/local/lib/python3.7/dist-packages (from matplotlib->imgaug>=0.4.0->keras-segmentation==0.3.0) (0.10.0)\n",
            "Requirement already satisfied, skipping upgrade: kiwisolver>=1.0.1 in /usr/local/lib/python3.7/dist-packages (from matplotlib->imgaug>=0.4.0->keras-segmentation==0.3.0) (1.3.1)\n",
            "Requirement already satisfied, skipping upgrade: decorator>=4.3.0 in /usr/local/lib/python3.7/dist-packages (from networkx>=2.0->scikit-image>=0.14.2->imgaug>=0.4.0->keras-segmentation==0.3.0) (4.4.2)\n",
            "Building wheels for collected packages: keras-segmentation\n",
            "  Building wheel for keras-segmentation (setup.py) ... \u001b[?25l\u001b[?25hdone\n",
            "  Created wheel for keras-segmentation: filename=keras_segmentation-0.3.0-cp37-none-any.whl size=34545 sha256=5b2940419d17de2d182d51f7abe75e9b1234e97a9fbb379665a9ad91c156dc26\n",
            "  Stored in directory: /tmp/pip-ephem-wheel-cache-drydfkuc/wheels/a8/be/2c/1e1f0a75330e3ae33dd34c2ba085929eb7c7ae1d2184f4b7b5\n",
            "Successfully built keras-segmentation\n",
            "\u001b[31mERROR: albumentations 0.1.12 has requirement imgaug<0.2.7,>=0.2.5, but you'll have imgaug 0.4.0 which is incompatible.\u001b[0m\n",
            "Installing collected packages: imageio, imgaug, keras-segmentation\n",
            "  Found existing installation: imageio 2.4.1\n",
            "    Uninstalling imageio-2.4.1:\n",
            "      Successfully uninstalled imageio-2.4.1\n",
            "  Found existing installation: imgaug 0.2.9\n",
            "    Uninstalling imgaug-0.2.9:\n",
            "      Successfully uninstalled imgaug-0.2.9\n",
            "Successfully installed imageio-2.5.0 imgaug-0.4.0 keras-segmentation-0.3.0\n"
          ],
          "name": "stdout"
        }
      ]
    },
    {
      "cell_type": "code",
      "metadata": {
        "id": "b8Zemk9-c1Cs"
      },
      "source": [
        "from keras_segmentation.models.segnet import resnet50_segnet, vgg_segnet, segnet\n",
        "import tensorflow as tf\n",
        "import os\n",
        "import tensorflow_datasets as tfds\n",
        "import cv2\n",
        "import numpy as np\n",
        "import glob\n",
        "from tensorflow.keras.callbacks import ModelCheckpoint, EarlyStopping"
      ],
      "execution_count": null,
      "outputs": []
    },
    {
      "cell_type": "code",
      "metadata": {
        "colab": {
          "base_uri": "https://localhost:8080/"
        },
        "id": "hexORAB3dQ7x",
        "outputId": "325d274c-1121-49ad-df46-3e2f36222453"
      },
      "source": [
        "from google.colab import drive\n",
        "drive.mount('/content/drive')"
      ],
      "execution_count": null,
      "outputs": [
        {
          "output_type": "stream",
          "text": [
            "Mounted at /content/drive\n"
          ],
          "name": "stdout"
        }
      ]
    },
    {
      "cell_type": "markdown",
      "metadata": {
        "id": "OmmnOq2ix3-r"
      },
      "source": [
        "# Models Preparation"
      ]
    },
    {
      "cell_type": "code",
      "metadata": {
        "id": "4-ZWnMimRJeZ"
      },
      "source": [
        "img_path = '/content/drive/MyDrive/ResNet/data/img/'\n",
        "proc_img_path = '/content/drive/MyDrive/SegNet/data/img/'\n",
        "mask_path = '/content/drive/MyDrive/ResNet/data/masks_machine/'\n",
        "proc_mask_path = '/content/drive/MyDrive/SegNet/data/ann/'"
      ],
      "execution_count": null,
      "outputs": []
    },
    {
      "cell_type": "code",
      "metadata": {
        "id": "GhA8jZNUeTnL"
      },
      "source": [
        "model = segnet(n_classes=3 ,  input_height=480, input_width=640  )"
      ],
      "execution_count": null,
      "outputs": []
    },
    {
      "cell_type": "code",
      "metadata": {
        "id": "fI2F1IaARXMi"
      },
      "source": [
        "dirs = os.listdir(img_path)\n",
        "img_dataset = []\n",
        "for item in dirs:\n",
        "        if os.path.isfile(img_path+item):\n",
        "            im = cv2.imread(img_path+item)\n",
        "            f, e = os.path.splitext(img_path+item)\n",
        "            im = cv2.resize(im, (480,640))\n",
        "            cv2.imwrite(proc_img_path + item, im)"
      ],
      "execution_count": null,
      "outputs": []
    },
    {
      "cell_type": "code",
      "metadata": {
        "id": "2et_QWMdRp7D"
      },
      "source": [
        "dirs = os.listdir(mask_path)\n",
        "mask_dataset = []\n",
        "\n",
        "for item in dirs:\n",
        "        if os.path.isfile(mask_path+item):\n",
        "            im = cv2.imread(mask_path+item)\n",
        "            im = cv2.resize(im, (480,640))\n",
        "            im[im == 3] = 0\n",
        "            cv2.imwrite(proc_mask_path + item, im)"
      ],
      "execution_count": null,
      "outputs": []
    },
    {
      "cell_type": "code",
      "metadata": {
        "id": "S81lhyhm9Vw5",
        "colab": {
          "base_uri": "https://localhost:8080/"
        },
        "outputId": "f6583d9c-dd59-4465-bf86-37feea8057b9"
      },
      "source": [
        "model = vgg_segnet(n_classes=3 ,  input_height=480, input_width=640  )"
      ],
      "execution_count": null,
      "outputs": [
        {
          "output_type": "stream",
          "text": [
            "Downloading data from https://github.com/fchollet/deep-learning-models/releases/download/v0.1/vgg16_weights_tf_dim_ordering_tf_kernels_notop.h5\n",
            "58892288/58889256 [==============================] - 1s 0us/step\n"
          ],
          "name": "stdout"
        }
      ]
    },
    {
      "cell_type": "code",
      "metadata": {
        "id": "LSZVsPrCtLuB",
        "colab": {
          "base_uri": "https://localhost:8080/"
        },
        "outputId": "5ecb296d-f8f2-40c7-c6e0-af050b946000"
      },
      "source": [
        "model = resnet50_segnet(n_classes=3 ,  input_height=480, input_width=640  )"
      ],
      "execution_count": null,
      "outputs": [
        {
          "output_type": "stream",
          "text": [
            "Downloading data from https://github.com/fchollet/deep-learning-models/releases/download/v0.2/resnet50_weights_tf_dim_ordering_tf_kernels_notop.h5\n",
            "94658560/94653016 [==============================] - 4s 0us/step\n"
          ],
          "name": "stdout"
        }
      ]
    },
    {
      "cell_type": "code",
      "metadata": {
        "id": "ypZ1KrA6RhoP"
      },
      "source": [
        "checkpoints_path = \"/content/drive/MyDrive/SegNet/temp/chape_vgg_segnet_\""
      ],
      "execution_count": null,
      "outputs": []
    },
    {
      "cell_type": "code",
      "metadata": {
        "id": "n9e9u8ujRfJK"
      },
      "source": [
        "config_file = checkpoints_path + \"_config.json\"\n",
        "dir_name = os.path.dirname(config_file)"
      ],
      "execution_count": null,
      "outputs": []
    },
    {
      "cell_type": "code",
      "metadata": {
        "id": "y4uUtc7sSZYZ"
      },
      "source": [
        "def find_latest_checkpoint(checkpoints_path, fail_safe=True):\n",
        "    latest_epoch_checkpoint = tf.train.latest_checkpoint(os.path.dirname(checkpoints_path))\n",
        "\n",
        "    if latest_epoch_checkpoint is None:\n",
        "        # This is legacy code, there should always be a \"checkpoint\" file in your directory\n",
        "\n",
        "        def get_epoch_number_from_path(path):\n",
        "            return path.replace(checkpoints_path, \"\").strip(\".\")\n",
        "\n",
        "        # Get all matching files\n",
        "        all_checkpoint_files = glob.glob(checkpoints_path + \".*\")\n",
        "        all_checkpoint_files = [ff.replace(\".index\", \"\") for ff in\n",
        "                                all_checkpoint_files]  # to make it work for newer versions of keras\n",
        "        # Filter out entries where the epoc_number part is pure number\n",
        "        all_checkpoint_files = list(filter(lambda f: get_epoch_number_from_path(f)\n",
        "                                           .isdigit(), all_checkpoint_files))\n",
        "        if not len(all_checkpoint_files):\n",
        "            # The glob list is empty, don't have a checkpoints_path\n",
        "            if not fail_safe:\n",
        "                raise ValueError(\"Checkpoint path {0} invalid\"\n",
        "                                 .format(checkpoints_path))\n",
        "            else:\n",
        "                return None\n",
        "\n",
        "        # Find the checkpoint file with the maximum epoch\n",
        "        latest_epoch_checkpoint = max(all_checkpoint_files,\n",
        "                                      key=lambda f:\n",
        "                                      int(get_epoch_number_from_path(f)))\n",
        "\n",
        "    return latest_epoch_checkpoint"
      ],
      "execution_count": null,
      "outputs": []
    },
    {
      "cell_type": "code",
      "metadata": {
        "id": "O5-LruG4XF1g"
      },
      "source": [
        "out = tr.find_latest_checkpoint"
      ],
      "execution_count": null,
      "outputs": []
    },
    {
      "cell_type": "code",
      "metadata": {
        "colab": {
          "base_uri": "https://localhost:8080/",
          "height": 163
        },
        "id": "4Nyyy7tqc9e4",
        "outputId": "a9eb3fdf-925a-4a5d-e6b7-8c23faae541a"
      },
      "source": [
        "model_vgg.load_weights(\"/content/drive/MyDrive/SegNet/temp/vgg_segnet_1.3\")"
      ],
      "execution_count": null,
      "outputs": [
        {
          "output_type": "error",
          "ename": "NameError",
          "evalue": "ignored",
          "traceback": [
            "\u001b[0;31m---------------------------------------------------------------------------\u001b[0m",
            "\u001b[0;31mNameError\u001b[0m                                 Traceback (most recent call last)",
            "\u001b[0;32m<ipython-input-42-5199ec9c6cd7>\u001b[0m in \u001b[0;36m<module>\u001b[0;34m()\u001b[0m\n\u001b[0;32m----> 1\u001b[0;31m \u001b[0mmodel_vgg\u001b[0m\u001b[0;34m.\u001b[0m\u001b[0mload_weights\u001b[0m\u001b[0;34m(\u001b[0m\u001b[0;34m\"/content/drive/MyDrive/SegNet/temp/vgg_segnet_1.3\"\u001b[0m\u001b[0;34m)\u001b[0m\u001b[0;34m\u001b[0m\u001b[0;34m\u001b[0m\u001b[0m\n\u001b[0m",
            "\u001b[0;31mNameError\u001b[0m: name 'model_vgg' is not defined"
          ]
        }
      ]
    },
    {
      "cell_type": "code",
      "metadata": {
        "id": "mmGfcKtMzgz4"
      },
      "source": [
        "callbacks = [\n",
        "    ModelCheckpoint(\n",
        "                filepath=\"checkpoints/\" + \"chape_segnet_resnet50\" + \".{epoch:05d}\",\n",
        "                save_weights_only=True,\n",
        "                verbose=True\n",
        "            ),\n",
        "    EarlyStopping()\n",
        "]"
      ],
      "execution_count": null,
      "outputs": []
    },
    {
      "cell_type": "code",
      "metadata": {
        "id": "D0bqksSVRHap"
      },
      "source": [
        "callbacks = [\n",
        "    ModelCheckpoint(\n",
        "                filepath=\"/content/drive/MyDrive/SegNet/data/checkpoint/\" + model.name + \".{epoch:05d}\",\n",
        "                save_weights_only=True,\n",
        "                verbose=True\n",
        "            ),\n",
        "    EarlyStopping()\n",
        "]"
      ],
      "execution_count": null,
      "outputs": []
    },
    {
      "cell_type": "markdown",
      "metadata": {
        "id": "UDR1nbDTyF15"
      },
      "source": [
        "# Train model"
      ]
    },
    {
      "cell_type": "code",
      "metadata": {
        "colab": {
          "base_uri": "https://localhost:8080/"
        },
        "id": "7hPiX0Kabg1s",
        "outputId": "3a65265a-f63e-45a7-b3a5-4fd968ea4c59"
      },
      "source": [
        "model.load_weights(\"/content/drive/MyDrive/SegNet/data/checkpoint/model_3.00002\")"
      ],
      "execution_count": null,
      "outputs": [
        {
          "output_type": "execute_result",
          "data": {
            "text/plain": [
              "<tensorflow.python.training.tracking.util.CheckpointLoadStatus at 0x7f0b8f16f310>"
            ]
          },
          "metadata": {
            "tags": []
          },
          "execution_count": 10
        }
      ]
    },
    {
      "cell_type": "code",
      "metadata": {
        "colab": {
          "base_uri": "https://localhost:8080/"
        },
        "id": "WwPqweBnlnkO",
        "outputId": "4ee33556-24dc-4992-dbc9-418f76519830"
      },
      "source": [
        "model.train(\n",
        "    train_images =  proc_img_path,\n",
        "    train_annotations = proc_mask_path,\n",
        "    checkpoints_path = \"/content/drive/MyDrive/SegNet/data/checkpoint/segnet_resnet50\" , \n",
        "    epochs= 2,\n",
        "    callbacks = callbacks\n",
        ")"
      ],
      "execution_count": null,
      "outputs": [
        {
          "output_type": "stream",
          "text": [
            " 10%|█         | 6/58 [00:00<00:01, 51.85it/s]"
          ],
          "name": "stderr"
        },
        {
          "output_type": "stream",
          "text": [
            "Verifying training dataset\n"
          ],
          "name": "stdout"
        },
        {
          "output_type": "stream",
          "text": [
            "100%|██████████| 58/58 [00:01<00:00, 50.49it/s]\n"
          ],
          "name": "stderr"
        },
        {
          "output_type": "stream",
          "text": [
            "Dataset verified! \n",
            "Epoch 1/2\n",
            "512/512 [==============================] - 6484s 13s/step - loss: 0.0445 - accuracy: 0.9832\n",
            "\n",
            "Epoch 00001: saving model to /content/drive/MyDrive/SegNet/data/checkpoint/model_3.00001\n",
            "WARNING:tensorflow:Early stopping conditioned on metric `val_loss` which is not available. Available metrics are: loss,accuracy\n",
            "Epoch 2/2\n",
            "512/512 [==============================] - 6480s 13s/step - loss: 0.0270 - accuracy: 0.9890\n",
            "\n",
            "Epoch 00002: saving model to /content/drive/MyDrive/SegNet/data/checkpoint/model_3.00002\n",
            "WARNING:tensorflow:Early stopping conditioned on metric `val_loss` which is not available. Available metrics are: loss,accuracy\n"
          ],
          "name": "stdout"
        }
      ]
    },
    {
      "cell_type": "markdown",
      "metadata": {
        "id": "3QK2KOEHyKRB"
      },
      "source": [
        "# Results"
      ]
    },
    {
      "cell_type": "markdown",
      "metadata": {
        "id": "BFuoMWeKz9ys"
      },
      "source": [
        "**segnet_resnet50:**\n",
        "\n",
        "\n",
        "*   Loss: 0.0270\n",
        "*   Accuracy: 0.9890\n",
        "\n",
        "**segnet:**\n",
        "\n",
        "\n",
        "*   Loss: 0.9569\n",
        "*   Accuracy: 0.7218\n",
        "\n",
        "**segnet_vgg:**\n",
        "\n",
        "\n",
        "*   Loss: \n",
        "*   Accuracy: \n",
        "\n",
        "**segnet_resnet18:**\n",
        "\n",
        "\n",
        "*   Loss: \n",
        "*   Accuracy: "
      ]
    },
    {
      "cell_type": "markdown",
      "metadata": {
        "id": "0opb_pI3yNUF"
      },
      "source": [
        "# Inference Time"
      ]
    },
    {
      "cell_type": "code",
      "metadata": {
        "id": "Cs4QTtOmS0tR"
      },
      "source": [
        "output_path = '/content/drive/MyDrive/SegNet/data/output/resnet50/'"
      ],
      "execution_count": null,
      "outputs": []
    },
    {
      "cell_type": "code",
      "metadata": {
        "id": "86o8GLrpSif6"
      },
      "source": [
        "t = time.time()\n",
        "count = 0\n",
        "for img in os.listdir(img_path):\n",
        "  count +=1\n",
        "  model.predict_segmentation(\n",
        "    inp=img_path + img,\n",
        "    out_fname=output_path + img\n",
        "  )\n",
        "avgtime = (time.time()-t)/count"
      ],
      "execution_count": null,
      "outputs": []
    },
    {
      "cell_type": "code",
      "metadata": {
        "colab": {
          "base_uri": "https://localhost:8080/"
        },
        "id": "9ef59SutfLMh",
        "outputId": "942c7418-3c71-4316-de63-2e5e4144bba6"
      },
      "source": [
        "print(avgtime)"
      ],
      "execution_count": null,
      "outputs": [
        {
          "output_type": "stream",
          "text": [
            "2.002929531294724\n"
          ],
          "name": "stdout"
        }
      ]
    },
    {
      "cell_type": "code",
      "metadata": {
        "id": "xK5l33F3dwF7"
      },
      "source": [
        "import time"
      ],
      "execution_count": null,
      "outputs": []
    },
    {
      "cell_type": "code",
      "metadata": {
        "id": "TalhZsZlby8E"
      },
      "source": [
        "out = model.predict_segmentation(\n",
        "    inp=\"/content/drive/MyDrive/SegNet/data/img/imagem7.png\",\n",
        "    out_fname=\"/content/drive/MyDrive/SegNet/data/output/model_3_imagem7.png\"\n",
        ")"
      ],
      "execution_count": null,
      "outputs": []
    }
  ]
}